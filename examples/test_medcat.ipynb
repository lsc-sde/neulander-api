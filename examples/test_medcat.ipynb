{
 "cells": [
  {
   "cell_type": "code",
   "execution_count": null,
   "id": "0",
   "metadata": {},
   "outputs": [],
   "source": [
    "from dotenv import find_dotenv, load_dotenv\n",
    "\n",
    "load_dotenv(find_dotenv())"
   ]
  },
  {
   "cell_type": "code",
   "execution_count": null,
   "id": "1",
   "metadata": {},
   "outputs": [],
   "source": [
    "import datetime\n",
    "import os\n",
    "from typing import Any\n",
    "\n",
    "import requests\n",
    "from azure.storage.blob import (\n",
    "    BlobClient,\n",
    "    BlobSasPermissions,\n",
    "    ContainerClient,\n",
    "    ContainerSasPermissions,\n",
    "    generate_blob_sas,\n",
    "    generate_container_sas,\n",
    ")\n",
    "from neulander_core.schema.core import AzureBlobDocIn"
   ]
  },
  {
   "cell_type": "code",
   "execution_count": null,
   "id": "2",
   "metadata": {},
   "outputs": [],
   "source": [
    "account_url = \"http://127.0.0.1:10000/devstoreaccount1/\"\n",
    "account_key = os.getenv(\"ACCOUNT_KEY\")"
   ]
  },
  {
   "cell_type": "code",
   "execution_count": null,
   "id": "3",
   "metadata": {},
   "outputs": [],
   "source": [
    "class NeuAzBlobOperator:\n",
    "    def __init__(self, account_url: str, account_key: str):\n",
    "        self.account_url = account_url\n",
    "        self.account_key = account_key\n",
    "        self.src_container_client = ContainerClient(\n",
    "            account_url=self.account_url, container_name=\"raw\"\n",
    "        )\n",
    "        self.dest_container_client = ContainerClient(\n",
    "            account_url=self.account_url, container_name=\"processed\"\n",
    "        )\n",
    "\n",
    "    def create_service_sas_blob(self, blob_client: BlobClient):\n",
    "        # Create a SAS token that's valid for one day, as an example\n",
    "        start_time = datetime.datetime.now(datetime.timezone.utc)\n",
    "        expiry_time = start_time + datetime.timedelta(days=1)\n",
    "\n",
    "        sas_token = generate_blob_sas(\n",
    "            account_name=blob_client.account_name,\n",
    "            container_name=blob_client.container_name,\n",
    "            blob_name=blob_client.blob_name,\n",
    "            account_key=self.account_key,\n",
    "            permission=BlobSasPermissions(read=True),\n",
    "            expiry=expiry_time,\n",
    "            start=start_time,\n",
    "        )\n",
    "\n",
    "        return sas_token\n",
    "\n",
    "    def create_blob_sas_url(self, blob_name: str):\n",
    "        blob_client = BlobClient(\n",
    "            account_url=self.account_url, container_name=\"raw\", blob_name=blob_name\n",
    "        )\n",
    "\n",
    "        sas_token = self.create_service_sas_blob(blob_client)\n",
    "\n",
    "        sas_url = f\"{blob_client.url}?{sas_token}\"\n",
    "\n",
    "        return sas_url\n",
    "\n",
    "    def create_service_sas_container(self, container_client: ContainerClient):\n",
    "        # Create a SAS token that's valid for one day, as an example\n",
    "        start_time = datetime.datetime.now(datetime.timezone.utc)\n",
    "        expiry_time = start_time + datetime.timedelta(days=1)\n",
    "\n",
    "        sas_token = generate_container_sas(\n",
    "            account_name=container_client.account_name,\n",
    "            container_name=container_client.container_name,\n",
    "            account_key=self.account_key,\n",
    "            permission=ContainerSasPermissions(write=True, read=True),\n",
    "            expiry=expiry_time,\n",
    "            start=start_time,\n",
    "        )\n",
    "\n",
    "        return sas_token\n",
    "\n",
    "    def create_container_sas_url(self, container_client: ContainerClient):\n",
    "        sas_token = self.create_service_sas_container(container_client)\n",
    "\n",
    "        sas_url = f\"{container_client.url}?{sas_token}\"\n",
    "\n",
    "        return sas_url"
   ]
  },
  {
   "cell_type": "code",
   "execution_count": null,
   "id": "4",
   "metadata": {},
   "outputs": [],
   "source": [
    "neulander_api_url = \"http://127.0.0.1:8000/medcat/1.4\""
   ]
  },
  {
   "cell_type": "code",
   "execution_count": null,
   "id": "5",
   "metadata": {},
   "outputs": [],
   "source": [
    "nabo = NeuAzBlobOperator(account_key=account_key, account_url=account_url)"
   ]
  },
  {
   "cell_type": "code",
   "execution_count": null,
   "id": "6",
   "metadata": {},
   "outputs": [],
   "source": [
    "src_container_url = nabo.create_container_sas_url(nabo.src_container_client)\n",
    "dest_container_url = nabo.create_container_sas_url(nabo.dest_container_client)"
   ]
  },
  {
   "cell_type": "markdown",
   "id": "7",
   "metadata": {},
   "source": [
    "## Add some dummy data to the raw container"
   ]
  },
  {
   "cell_type": "raw",
   "id": "8",
   "metadata": {},
   "source": [
    "data = \"She presents with a 3 month history of headaches and 2 episodes of generalised tonic clonic seizures.\"\n",
    "c = ContainerClient.from_container_url(nabo.create_container_sas_url(container_client=nabo.src_container_client))\n",
    "\n",
    "for i in range(100):\n",
    "    blob_name = f\"text_{i:03d}.txt\"\n",
    "    out = c.upload_blob(name=blob_name, data = data, overwrite=True)"
   ]
  },
  {
   "cell_type": "markdown",
   "id": "9",
   "metadata": {},
   "source": [
    "## Submit jobs to the API"
   ]
  },
  {
   "cell_type": "code",
   "execution_count": null,
   "id": "10",
   "metadata": {},
   "outputs": [],
   "source": [
    "headers = {\"X-API-Key\": os.getenv(\"API_KEY\")}"
   ]
  },
  {
   "cell_type": "code",
   "execution_count": null,
   "id": "11",
   "metadata": {},
   "outputs": [],
   "source": [
    "for i in range(50):\n",
    "    n = i % 100\n",
    "    docin = AzureBlobDocIn(\n",
    "        docid=f\"text_{n:03d}\",\n",
    "        docext=\"txt\",\n",
    "        src=src_container_url,\n",
    "        dest=dest_container_url,\n",
    "        docmeta=\"test\",\n",
    "    )\n",
    "    r = requests.post(neulander_api_url, data=docin.model_dump_json(), headers=headers)\n",
    "    print(r.status_code)"
   ]
  },
  {
   "cell_type": "code",
   "execution_count": null,
   "id": "12",
   "metadata": {
    "jupyter": {
     "source_hidden": true
    }
   },
   "outputs": [],
   "source": [
    "class AzureBlobStorage:\n",
    "    def __init__(self, sas_url):\n",
    "        self.sas_url = sas_url\n",
    "        self.container_client = ContainerClient.from_container_url(sas_url)\n",
    "\n",
    "    async def read(self, blob_name: str) -> bytes:\n",
    "        blob_client = self.container_client.get_blob_client(blob_name)\n",
    "        blob = blob_client.download_blob(timeout=60)\n",
    "        blob_content = blob.readall()\n",
    "        return blob_content\n",
    "\n",
    "    async def write(self, blob_name: str, data: Any):\n",
    "        now = datetime.now()\n",
    "        blob_path = f\"{now.year}/{now.month}/{now.day}/{blob_name}\"\n",
    "        response = self.container_client.upload_blob(\n",
    "            name=blob_path, data=data, overwrite=True\n",
    "        )\n",
    "        return response"
   ]
  }
 ],
 "metadata": {
  "kernelspec": {
   "display_name": ".venv",
   "language": "python",
   "name": "python3"
  },
  "language_info": {
   "codemirror_mode": {
    "name": "ipython",
    "version": 3
   },
   "file_extension": ".py",
   "mimetype": "text/x-python",
   "name": "python",
   "nbconvert_exporter": "python",
   "pygments_lexer": "ipython3",
   "version": "3.13.0"
  }
 },
 "nbformat": 4,
 "nbformat_minor": 5
}
